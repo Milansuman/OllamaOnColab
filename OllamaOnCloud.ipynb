{
  "nbformat": 4,
  "nbformat_minor": 0,
  "metadata": {
    "colab": {
      "provenance": [],
      "gpuType": "V28",
      "authorship_tag": "ABX9TyOXEyZsrDK09+mzc+5A7nPy",
      "include_colab_link": true
    },
    "kernelspec": {
      "name": "python3",
      "display_name": "Python 3"
    },
    "language_info": {
      "name": "python"
    },
    "accelerator": "TPU"
  },
  "cells": [
    {
      "cell_type": "markdown",
      "metadata": {
        "id": "view-in-github",
        "colab_type": "text"
      },
      "source": [
        "<a href=\"https://colab.research.google.com/github/Milansuman/OllamaOnColab/blob/main/OllamaOnCloud.ipynb\" target=\"_parent\"><img src=\"https://colab.research.google.com/assets/colab-badge.svg\" alt=\"Open In Colab\"/></a>"
      ]
    },
    {
      "cell_type": "markdown",
      "source": [
        "# Install dependencies\n",
        "This section installs the necessary dependencies to setup ollama on google colab. Select a T4 instance when connecting"
      ],
      "metadata": {
        "id": "gpknKYk6J6m6"
      }
    },
    {
      "cell_type": "code",
      "execution_count": null,
      "metadata": {
        "id": "MKzIKTNWJgL4"
      },
      "outputs": [],
      "source": [
        "! apt install pciutils"
      ]
    },
    {
      "cell_type": "code",
      "source": [
        "! curl -fsSL https://ollama.com/install.sh | sh"
      ],
      "metadata": {
        "id": "lhOUTjGTKXPO"
      },
      "execution_count": null,
      "outputs": []
    },
    {
      "cell_type": "code",
      "source": [
        "import os\n",
        "import threading\n",
        "import subprocess\n",
        "import requests\n",
        "import json\n",
        "\n",
        "def ollama():\n",
        "    os.environ['OLLAMA_HOST'] = '127.0.0.1:11434'\n",
        "    os.environ['OLLAMA_ORIGINS'] = '*'\n",
        "    subprocess.Popen([\"ollama\", \"serve\"])\n",
        "\n",
        "ollama_thread = threading.Thread(target=ollama)\n",
        "ollama_thread.start()"
      ],
      "metadata": {
        "id": "M5apgPo4d2FZ"
      },
      "execution_count": null,
      "outputs": []
    },
    {
      "cell_type": "markdown",
      "source": [
        "# Status check"
      ],
      "metadata": {
        "id": "05mfHjn_tHE3"
      }
    },
    {
      "cell_type": "code",
      "source": [
        "! curl http://127.0.0.1:11434"
      ],
      "metadata": {
        "id": "1xe0GE-KtGQf"
      },
      "execution_count": null,
      "outputs": []
    },
    {
      "cell_type": "markdown",
      "source": [
        "# Pull all the models you need"
      ],
      "metadata": {
        "id": "bQpqXAhA4Frr"
      }
    },
    {
      "cell_type": "code",
      "source": [
        "! ollama pull llama3\n",
        "! ollama pull wizard-vicuna-uncensored"
      ],
      "metadata": {
        "id": "IUeiNbgH4FKr"
      },
      "execution_count": null,
      "outputs": []
    },
    {
      "cell_type": "markdown",
      "source": [
        "# Clone your repo and run your code\n",
        "Add cells to your liking!"
      ],
      "metadata": {
        "id": "U1EuhM6r42VE"
      }
    },
    {
      "cell_type": "code",
      "source": [
        "from langchain_community.llms.ollama import Ollama\n",
        "from langchain_core.prompts import ChatPromptTemplate\n",
        "from langchain_core.output_parsers import StrOutputParser\n",
        "\n",
        "llm = Ollama(\n",
        "    model=\"llama3\"\n",
        ")\n",
        "\n",
        "def generate_prompt(prompt):\n",
        "    prompt_template = ChatPromptTemplate.from_template(\"You are a helpful chatbot. Respond to this prompt: {prompt}\")\n",
        "\n",
        "    chain = prompt_template | llm | StrOutputParser()\n",
        "\n",
        "    result = chain.invoke({\n",
        "        \"prompt\": prompt\n",
        "    })\n",
        "\n",
        "    return result\n",
        "\n",
        "while True:\n",
        "    print(generate_prompt(input(\"> \")))"
      ],
      "metadata": {
        "id": "O-OG_tniuaHx"
      },
      "execution_count": null,
      "outputs": []
    }
  ]
}